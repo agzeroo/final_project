{
 "cells": [
  {
   "cell_type": "code",
   "execution_count": 1,
   "id": "02dfa994",
   "metadata": {},
   "outputs": [],
   "source": [
    "# 기본\n",
    "import pandas as pd\n",
    "import numpy as np\n",
    "import matplotlib.pyplot as plt\n",
    "import seaborn as sns\n",
    "\n",
    "from torch.autograd import Variable\n",
    "\n",
    "# 경고 뜨지 않게 설정\n",
    "import warnings\n",
    "warnings.filterwarnings('ignore')\n",
    "\n",
    "# 그래프 설정\n",
    "plt.rcParams['font.family'] = 'Malgun Gothic'\n",
    "# plt.rcParams['font.family'] = 'AppleGothic'\n",
    "plt.rcParams['font.size'] = 16\n",
    "plt.rcParams['figure.figsize'] = 20, 10\n",
    "plt.rcParams['axes.unicode_minus'] = False"
   ]
  },
  {
   "cell_type": "code",
   "execution_count": 2,
   "id": "2f4dd957",
   "metadata": {},
   "outputs": [],
   "source": [
    "def plot_image(image):\n",
    "    plt.imshow(image, cmap=\"gray\", interpolation=\"nearest\")\n",
    "    plt.axis(\"off\")\n",
    "\n",
    "def plot_color_image(image):\n",
    "    plt.imshow(image, interpolation=\"nearest\")\n",
    "    plt.axis(\"off\")"
   ]
  },
  {
   "cell_type": "code",
   "execution_count": 3,
   "id": "51126420",
   "metadata": {},
   "outputs": [],
   "source": [
    "import os, cv2"
   ]
  },
  {
   "cell_type": "code",
   "execution_count": 4,
   "id": "6ec3ff19",
   "metadata": {},
   "outputs": [],
   "source": [
    "from PIL import Image"
   ]
  },
  {
   "cell_type": "code",
   "execution_count": 5,
   "id": "23dd8c86",
   "metadata": {},
   "outputs": [],
   "source": [
    "import torch\n",
    "import torch.nn as nn\n",
    "import torch.optim as optim\n",
    "\n",
    "import torchvision\n",
    "from torchvision import datasets, models, transforms\n",
    "\n",
    "import numpy as np\n",
    "import time\n",
    "\n",
    "\n",
    "device = torch.device(\"cuda:0\" if torch.cuda.is_available() else \"cpu\") # device 객체"
   ]
  },
  {
   "cell_type": "markdown",
   "id": "73b89ad8",
   "metadata": {},
   "source": [
    "## 모델 불러오기"
   ]
  },
  {
   "cell_type": "code",
   "execution_count": 6,
   "id": "edc78551",
   "metadata": {},
   "outputs": [],
   "source": [
    "PATH = 'C:/Users/user/Desktop/프로젝트/파이널프로젝트/Resnet_model/'"
   ]
  },
  {
   "cell_type": "code",
   "execution_count": 7,
   "id": "edfb7253",
   "metadata": {},
   "outputs": [],
   "source": [
    "# Load model\n",
    "nose_model = torch.load(PATH + 'model.pt')"
   ]
  },
  {
   "cell_type": "code",
   "execution_count": 8,
   "id": "0bee7c99",
   "metadata": {},
   "outputs": [
    {
     "name": "stdout",
     "output_type": "stream",
     "text": [
      "True\n"
     ]
    }
   ],
   "source": [
    "USE_CUDA = torch.cuda.is_available()\n",
    "print(USE_CUDA)"
   ]
  },
  {
   "cell_type": "markdown",
   "id": "b904b9f6",
   "metadata": {},
   "source": [
    "## 데이터 전처리"
   ]
  },
  {
   "cell_type": "code",
   "execution_count": 9,
   "id": "ac303221",
   "metadata": {},
   "outputs": [],
   "source": [
    "# 데이터셋을 불러올 때 사용할 변형(transformation) 객체 정의\n",
    "new_transforms = transforms.Compose([\n",
    "    transforms.Resize((300, 300)),\n",
    "    transforms.RandomHorizontalFlip(), # 데이터 증진(augmentation)\n",
    "    transforms.ToTensor(),\n",
    "    transforms.Normalize([0.485, 0.456, 0.406], [0.229, 0.224, 0.225]) # 정규화(normalization)\n",
    "])"
   ]
  },
  {
   "cell_type": "code",
   "execution_count": 30,
   "id": "a1d3463f",
   "metadata": {},
   "outputs": [],
   "source": [
    "data_dir = 'C:/Users/user/Desktop/프로젝트/파이널프로젝트/img/396.jpg'"
   ]
  },
  {
   "cell_type": "code",
   "execution_count": 31,
   "id": "2119211d",
   "metadata": {},
   "outputs": [],
   "source": [
    "loader = transforms.Compose([\n",
    "    transforms.Resize((300, 300)),\n",
    "    transforms.RandomHorizontalFlip(), # 데이터 증진(augmentation)\n",
    "    transforms.ToTensor(),\n",
    "    transforms.Normalize([0.485, 0.456, 0.406], [0.229, 0.224, 0.225]) # 정규화(normalization)\n",
    "])\n",
    "\n",
    "def image_loader(image_name):\n",
    "    \"\"\"load image, returns cuda tensor\"\"\"\n",
    "    image = Image.open(image_name)\n",
    "    image = loader(image).float()\n",
    "    image = Variable(image, requires_grad=True)\n",
    "    image = image.unsqueeze(0)  #this is for VGG, may not be needed for ResNet\n",
    "    return image.cuda()  #assumes that you're using GPU\n",
    "\n",
    "image = image_loader(data_dir) # 이미지경로\n",
    "\n",
    "nose_model = nose_model.cuda()\n",
    "outputs = nose_model(image)"
   ]
  },
  {
   "cell_type": "code",
   "execution_count": 32,
   "id": "513b0e78",
   "metadata": {},
   "outputs": [],
   "source": [
    "class_names=['Heart', 'Oblong', 'Oval', 'Round', 'Square']"
   ]
  },
  {
   "cell_type": "code",
   "execution_count": 33,
   "id": "904557a0",
   "metadata": {},
   "outputs": [],
   "source": [
    "preds = torch.max(outputs, 1)"
   ]
  },
  {
   "cell_type": "code",
   "execution_count": 34,
   "id": "c5d96ca2",
   "metadata": {},
   "outputs": [
    {
     "name": "stdout",
     "output_type": "stream",
     "text": [
      "[예측 결과: Square]\n"
     ]
    }
   ],
   "source": [
    "print(f'[예측 결과: {class_names[preds[1]]}]')"
   ]
  }
 ],
 "metadata": {
  "kernelspec": {
   "display_name": "Python 3",
   "language": "python",
   "name": "python3"
  },
  "language_info": {
   "codemirror_mode": {
    "name": "ipython",
    "version": 3
   },
   "file_extension": ".py",
   "mimetype": "text/x-python",
   "name": "python",
   "nbconvert_exporter": "python",
   "pygments_lexer": "ipython3",
   "version": "3.8.8"
  }
 },
 "nbformat": 4,
 "nbformat_minor": 5
}
